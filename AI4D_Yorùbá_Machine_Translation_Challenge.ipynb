{
  "nbformat": 4,
  "nbformat_minor": 0,
  "metadata": {
    "colab": {
      "name": "AI4D Yorùbá Machine Translation Challenge",
      "provenance": [],
      "authorship_tag": "ABX9TyNRWNUsFuGrpsmf+W+Djvu8",
      "include_colab_link": true
    },
    "kernelspec": {
      "name": "python3",
      "display_name": "Python 3"
    }
  },
  "cells": [
    {
      "cell_type": "markdown",
      "metadata": {
        "id": "view-in-github",
        "colab_type": "text"
      },
      "source": [
        "<a href=\"https://colab.research.google.com/github/ayoolafelix/AI4D-Yor-b-Machine-Translation/blob/main/AI4D_Yor%C3%B9b%C3%A1_Machine_Translation_Challenge.ipynb\" target=\"_parent\"><img src=\"https://colab.research.google.com/assets/colab-badge.svg\" alt=\"Open In Colab\"/></a>"
      ]
    },
    {
      "cell_type": "code",
      "metadata": {
        "colab": {
          "base_uri": "https://localhost:8080/"
        },
        "id": "1w7DiEO1IW_R",
        "outputId": "f6f113e0-5abc-4a91-a060-289509cb18cd"
      },
      "source": [
        "from google.colab import drive\n",
        "drive.mount('/content/gdrive')"
      ],
      "execution_count": 11,
      "outputs": [
        {
          "output_type": "stream",
          "text": [
            "Drive already mounted at /content/gdrive; to attempt to forcibly remount, call drive.mount(\"/content/gdrive\", force_remount=True).\n"
          ],
          "name": "stdout"
        }
      ]
    },
    {
      "cell_type": "code",
      "metadata": {
        "id": "yY7EQE1hI6xI"
      },
      "source": [
        "import pandas as pd"
      ],
      "execution_count": 13,
      "outputs": []
    },
    {
      "cell_type": "code",
      "metadata": {
        "id": "gUrgGI-yI0_p"
      },
      "source": [
        "test = pd.read_csv('/content/gdrive/My Drive/AI4D Yorùbá Machine Translation Challenge/Test.csv')\n",
        "train = pd.read_csv('/content/gdrive/My Drive/AI4D Yorùbá Machine Translation Challenge/Train.csv')\n",
        "sample = pd.read_csv('/content/gdrive/My Drive/AI4D Yorùbá Machine Translation Challenge/SampleSubmission.csv')"
      ],
      "execution_count": 14,
      "outputs": []
    },
    {
      "cell_type": "code",
      "metadata": {
        "id": "23sqirGSJutW"
      },
      "source": [
        "import sys\n",
        "sys.path.append('/content/gdrive/My Drive/Colab Notebooks')"
      ],
      "execution_count": 15,
      "outputs": []
    },
    {
      "cell_type": "code",
      "metadata": {
        "colab": {
          "base_uri": "https://localhost:8080/",
          "height": 204
        },
        "id": "hGL_u02SJnjE",
        "outputId": "45900be7-eebf-4a65-e17f-37d98013292d"
      },
      "source": [
        "train.head()"
      ],
      "execution_count": 16,
      "outputs": [
        {
          "output_type": "execute_result",
          "data": {
            "text/html": [
              "<div>\n",
              "<style scoped>\n",
              "    .dataframe tbody tr th:only-of-type {\n",
              "        vertical-align: middle;\n",
              "    }\n",
              "\n",
              "    .dataframe tbody tr th {\n",
              "        vertical-align: top;\n",
              "    }\n",
              "\n",
              "    .dataframe thead th {\n",
              "        text-align: right;\n",
              "    }\n",
              "</style>\n",
              "<table border=\"1\" class=\"dataframe\">\n",
              "  <thead>\n",
              "    <tr style=\"text-align: right;\">\n",
              "      <th></th>\n",
              "      <th>ID</th>\n",
              "      <th>Yoruba</th>\n",
              "      <th>English</th>\n",
              "    </tr>\n",
              "  </thead>\n",
              "  <tbody>\n",
              "    <tr>\n",
              "      <th>0</th>\n",
              "      <td>ID_AAJEQLCz</td>\n",
              "      <td>A ṣètò Ìgbìmọ̀ Tó Ń Ṣètò Ìrànwọ́ Nígbà Àjálù l...</td>\n",
              "      <td>A Disaster Relief Committee was formed to orga...</td>\n",
              "    </tr>\n",
              "    <tr>\n",
              "      <th>1</th>\n",
              "      <td>ID_AASNedba</td>\n",
              "      <td>Ìrọ̀lẹ́ May 22, 2018 ni wọ́n fàṣẹ ọba mú Arákù...</td>\n",
              "      <td>Brother Solovyev was arrested on the evening o...</td>\n",
              "    </tr>\n",
              "    <tr>\n",
              "      <th>2</th>\n",
              "      <td>ID_AAeQrhMq</td>\n",
              "      <td>Iléeṣẹ́ Creative Commons náà</td>\n",
              "      <td>Creative Commons the Organization</td>\n",
              "    </tr>\n",
              "    <tr>\n",
              "      <th>3</th>\n",
              "      <td>ID_AAxlMgPP</td>\n",
              "      <td>Pè̩lú Egypt, Morocco àti Tunisia tí wó̩n ti lo...</td>\n",
              "      <td>With Egypt, Morocco and Tunisia out of the Wor...</td>\n",
              "    </tr>\n",
              "    <tr>\n",
              "      <th>4</th>\n",
              "      <td>ID_ABKuMKSx</td>\n",
              "      <td>Adájọ́ àgbà lórílẹ̀ èdè Náíjíríà (Attorney Gen...</td>\n",
              "      <td>The Attorney General of the Federation, Justic...</td>\n",
              "    </tr>\n",
              "  </tbody>\n",
              "</table>\n",
              "</div>"
            ],
            "text/plain": [
              "            ID  ...                                            English\n",
              "0  ID_AAJEQLCz  ...  A Disaster Relief Committee was formed to orga...\n",
              "1  ID_AASNedba  ...  Brother Solovyev was arrested on the evening o...\n",
              "2  ID_AAeQrhMq  ...                  Creative Commons the Organization\n",
              "3  ID_AAxlMgPP  ...  With Egypt, Morocco and Tunisia out of the Wor...\n",
              "4  ID_ABKuMKSx  ...  The Attorney General of the Federation, Justic...\n",
              "\n",
              "[5 rows x 3 columns]"
            ]
          },
          "metadata": {
            "tags": []
          },
          "execution_count": 16
        }
      ]
    },
    {
      "cell_type": "code",
      "metadata": {
        "id": "sKemR-ReKCln"
      },
      "source": [
        ""
      ],
      "execution_count": null,
      "outputs": []
    }
  ]
}